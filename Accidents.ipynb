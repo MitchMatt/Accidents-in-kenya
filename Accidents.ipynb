{
 "cells": [
  {
   "cell_type": "code",
   "execution_count": 19,
   "metadata": {
    "id": "VmpXD0htBdSt"
   },
   "outputs": [],
   "source": [
    "import pandas as pd\n",
    "import numpy as np\n",
    "#Data plotting\n",
    "import matplotlib.pyplot as plt\n",
    "import seaborn as sns\n",
    "import warnings\n",
    "warnings.filterwarnings('ignore')\n",
    "# from sklearn\n",
    "from xgboost import XGBClassifier\n",
    "import sklearn.metrics as metrics\n",
    "from imblearn.over_sampling import SMOTE\n",
    "from sklearn.tree import DecisionTreeClassifier\n",
    "from sklearn.neighbors import KNeighborsClassifier\n",
    "from sklearn.linear_model import LogisticRegression\n",
    "from sklearn.model_selection import train_test_split\n",
    "from sklearn.ensemble  import GradientBoostingClassifier\n",
    "from sklearn.preprocessing import LabelEncoder, StandardScaler\n",
    "from sklearn.model_selection import StratifiedKFold, GridSearchCV\n",
    "from sklearn.metrics import classification_report, confusion_matrix, roc_curve, roc_auc_score\n",
    "from sklearn.metrics import accuracy_score, precision_score, recall_score, f1_score, roc_auc_score, classification_report, confusion_matrix\n"
   ]
  },
  {
   "cell_type": "markdown",
   "metadata": {},
   "source": [
    "#### LOADING THE DATASET"
   ]
  },
  {
   "cell_type": "code",
   "execution_count": 3,
   "metadata": {},
   "outputs": [
    {
     "data": {
      "text/html": [
       "<div>\n",
       "<style scoped>\n",
       "    .dataframe tbody tr th:only-of-type {\n",
       "        vertical-align: middle;\n",
       "    }\n",
       "\n",
       "    .dataframe tbody tr th {\n",
       "        vertical-align: top;\n",
       "    }\n",
       "\n",
       "    .dataframe thead th {\n",
       "        text-align: right;\n",
       "    }\n",
       "</style>\n",
       "<table border=\"1\" class=\"dataframe\">\n",
       "  <thead>\n",
       "    <tr style=\"text-align: right;\">\n",
       "      <th></th>\n",
       "      <th>crash_id</th>\n",
       "      <th>crash_datetime</th>\n",
       "      <th>crash_date</th>\n",
       "      <th>latitude</th>\n",
       "      <th>longitude</th>\n",
       "      <th>n_crash_reports</th>\n",
       "      <th>contains_fatality_words</th>\n",
       "      <th>contains_pedestrian_words</th>\n",
       "      <th>contains_matatu_words</th>\n",
       "      <th>contains_motorcycle_words</th>\n",
       "    </tr>\n",
       "  </thead>\n",
       "  <tbody>\n",
       "    <tr>\n",
       "      <th>0</th>\n",
       "      <td>1</td>\n",
       "      <td>06/06/2018 20:39</td>\n",
       "      <td>06/06/2018</td>\n",
       "      <td>-1.263030</td>\n",
       "      <td>36.764374</td>\n",
       "      <td>1</td>\n",
       "      <td>0</td>\n",
       "      <td>0</td>\n",
       "      <td>0</td>\n",
       "      <td>0</td>\n",
       "    </tr>\n",
       "    <tr>\n",
       "      <th>1</th>\n",
       "      <td>2</td>\n",
       "      <td>17/08/2018 06:15</td>\n",
       "      <td>17/08/2018</td>\n",
       "      <td>-0.829710</td>\n",
       "      <td>37.037820</td>\n",
       "      <td>1</td>\n",
       "      <td>1</td>\n",
       "      <td>0</td>\n",
       "      <td>0</td>\n",
       "      <td>0</td>\n",
       "    </tr>\n",
       "    <tr>\n",
       "      <th>2</th>\n",
       "      <td>3</td>\n",
       "      <td>25/05/2018 17:51</td>\n",
       "      <td>25/05/2018</td>\n",
       "      <td>-1.125301</td>\n",
       "      <td>37.003297</td>\n",
       "      <td>1</td>\n",
       "      <td>0</td>\n",
       "      <td>0</td>\n",
       "      <td>0</td>\n",
       "      <td>0</td>\n",
       "    </tr>\n",
       "    <tr>\n",
       "      <th>3</th>\n",
       "      <td>4</td>\n",
       "      <td>25/05/2018 18:11</td>\n",
       "      <td>25/05/2018</td>\n",
       "      <td>-1.740958</td>\n",
       "      <td>37.129025</td>\n",
       "      <td>1</td>\n",
       "      <td>0</td>\n",
       "      <td>0</td>\n",
       "      <td>0</td>\n",
       "      <td>0</td>\n",
       "    </tr>\n",
       "    <tr>\n",
       "      <th>4</th>\n",
       "      <td>5</td>\n",
       "      <td>25/05/2018 21:59</td>\n",
       "      <td>25/05/2018</td>\n",
       "      <td>-1.259392</td>\n",
       "      <td>36.842321</td>\n",
       "      <td>1</td>\n",
       "      <td>1</td>\n",
       "      <td>0</td>\n",
       "      <td>0</td>\n",
       "      <td>0</td>\n",
       "    </tr>\n",
       "    <tr>\n",
       "      <th>5</th>\n",
       "      <td>6</td>\n",
       "      <td>26/05/2018 07:11</td>\n",
       "      <td>26/05/2018</td>\n",
       "      <td>-1.215499</td>\n",
       "      <td>36.835150</td>\n",
       "      <td>1</td>\n",
       "      <td>0</td>\n",
       "      <td>0</td>\n",
       "      <td>0</td>\n",
       "      <td>0</td>\n",
       "    </tr>\n",
       "    <tr>\n",
       "      <th>6</th>\n",
       "      <td>7</td>\n",
       "      <td>26/05/2018 07:42</td>\n",
       "      <td>26/05/2018</td>\n",
       "      <td>-1.372556</td>\n",
       "      <td>36.920491</td>\n",
       "      <td>1</td>\n",
       "      <td>1</td>\n",
       "      <td>0</td>\n",
       "      <td>0</td>\n",
       "      <td>0</td>\n",
       "    </tr>\n",
       "    <tr>\n",
       "      <th>7</th>\n",
       "      <td>8</td>\n",
       "      <td>26/05/2018 07:52</td>\n",
       "      <td>26/05/2018</td>\n",
       "      <td>-1.209940</td>\n",
       "      <td>36.833173</td>\n",
       "      <td>1</td>\n",
       "      <td>0</td>\n",
       "      <td>0</td>\n",
       "      <td>0</td>\n",
       "      <td>0</td>\n",
       "    </tr>\n",
       "    <tr>\n",
       "      <th>8</th>\n",
       "      <td>9</td>\n",
       "      <td>26/05/2018 11:51</td>\n",
       "      <td>26/05/2018</td>\n",
       "      <td>-1.314351</td>\n",
       "      <td>36.807909</td>\n",
       "      <td>1</td>\n",
       "      <td>0</td>\n",
       "      <td>0</td>\n",
       "      <td>0</td>\n",
       "      <td>0</td>\n",
       "    </tr>\n",
       "    <tr>\n",
       "      <th>9</th>\n",
       "      <td>10</td>\n",
       "      <td>26/05/2018 15:42</td>\n",
       "      <td>26/05/2018</td>\n",
       "      <td>-1.206788</td>\n",
       "      <td>36.854991</td>\n",
       "      <td>1</td>\n",
       "      <td>0</td>\n",
       "      <td>0</td>\n",
       "      <td>0</td>\n",
       "      <td>0</td>\n",
       "    </tr>\n",
       "    <tr>\n",
       "      <th>10</th>\n",
       "      <td>11</td>\n",
       "      <td>26/05/2018 18:21</td>\n",
       "      <td>26/05/2018</td>\n",
       "      <td>-1.244783</td>\n",
       "      <td>36.866854</td>\n",
       "      <td>1</td>\n",
       "      <td>0</td>\n",
       "      <td>0</td>\n",
       "      <td>0</td>\n",
       "      <td>0</td>\n",
       "    </tr>\n",
       "    <tr>\n",
       "      <th>11</th>\n",
       "      <td>12</td>\n",
       "      <td>27/05/2018 14:03</td>\n",
       "      <td>27/05/2018</td>\n",
       "      <td>-1.233802</td>\n",
       "      <td>36.873170</td>\n",
       "      <td>1</td>\n",
       "      <td>0</td>\n",
       "      <td>0</td>\n",
       "      <td>0</td>\n",
       "      <td>0</td>\n",
       "    </tr>\n",
       "    <tr>\n",
       "      <th>12</th>\n",
       "      <td>13</td>\n",
       "      <td>27/05/2018 14:04</td>\n",
       "      <td>27/05/2018</td>\n",
       "      <td>-1.258863</td>\n",
       "      <td>36.913780</td>\n",
       "      <td>1</td>\n",
       "      <td>1</td>\n",
       "      <td>0</td>\n",
       "      <td>0</td>\n",
       "      <td>1</td>\n",
       "    </tr>\n",
       "    <tr>\n",
       "      <th>13</th>\n",
       "      <td>14</td>\n",
       "      <td>27/05/2018 14:49</td>\n",
       "      <td>27/05/2018</td>\n",
       "      <td>-1.067962</td>\n",
       "      <td>37.051240</td>\n",
       "      <td>1</td>\n",
       "      <td>0</td>\n",
       "      <td>0</td>\n",
       "      <td>1</td>\n",
       "      <td>0</td>\n",
       "    </tr>\n",
       "    <tr>\n",
       "      <th>14</th>\n",
       "      <td>15</td>\n",
       "      <td>27/05/2018 17:00</td>\n",
       "      <td>27/05/2018</td>\n",
       "      <td>-1.260873</td>\n",
       "      <td>36.712982</td>\n",
       "      <td>1</td>\n",
       "      <td>0</td>\n",
       "      <td>0</td>\n",
       "      <td>0</td>\n",
       "      <td>1</td>\n",
       "    </tr>\n",
       "    <tr>\n",
       "      <th>15</th>\n",
       "      <td>16</td>\n",
       "      <td>28/05/2018 19:42</td>\n",
       "      <td>28/05/2018</td>\n",
       "      <td>-1.397699</td>\n",
       "      <td>36.941652</td>\n",
       "      <td>1</td>\n",
       "      <td>0</td>\n",
       "      <td>0</td>\n",
       "      <td>1</td>\n",
       "      <td>0</td>\n",
       "    </tr>\n",
       "    <tr>\n",
       "      <th>16</th>\n",
       "      <td>17</td>\n",
       "      <td>29/05/2018 16:33</td>\n",
       "      <td>29/05/2018</td>\n",
       "      <td>-1.319633</td>\n",
       "      <td>36.837982</td>\n",
       "      <td>1</td>\n",
       "      <td>0</td>\n",
       "      <td>0</td>\n",
       "      <td>0</td>\n",
       "      <td>0</td>\n",
       "    </tr>\n",
       "    <tr>\n",
       "      <th>17</th>\n",
       "      <td>18</td>\n",
       "      <td>29/05/2018 16:44</td>\n",
       "      <td>29/05/2018</td>\n",
       "      <td>-1.305472</td>\n",
       "      <td>36.825128</td>\n",
       "      <td>1</td>\n",
       "      <td>0</td>\n",
       "      <td>0</td>\n",
       "      <td>0</td>\n",
       "      <td>0</td>\n",
       "    </tr>\n",
       "    <tr>\n",
       "      <th>18</th>\n",
       "      <td>19</td>\n",
       "      <td>29/05/2018 17:18</td>\n",
       "      <td>29/05/2018</td>\n",
       "      <td>-1.250170</td>\n",
       "      <td>36.846601</td>\n",
       "      <td>1</td>\n",
       "      <td>0</td>\n",
       "      <td>0</td>\n",
       "      <td>0</td>\n",
       "      <td>0</td>\n",
       "    </tr>\n",
       "    <tr>\n",
       "      <th>19</th>\n",
       "      <td>20</td>\n",
       "      <td>29/05/2018 18:32</td>\n",
       "      <td>29/05/2018</td>\n",
       "      <td>-1.503181</td>\n",
       "      <td>37.087346</td>\n",
       "      <td>1</td>\n",
       "      <td>0</td>\n",
       "      <td>0</td>\n",
       "      <td>0</td>\n",
       "      <td>0</td>\n",
       "    </tr>\n",
       "  </tbody>\n",
       "</table>\n",
       "</div>"
      ],
      "text/plain": [
       "    crash_id    crash_datetime  crash_date  latitude  longitude  \\\n",
       "0          1  06/06/2018 20:39  06/06/2018 -1.263030  36.764374   \n",
       "1          2  17/08/2018 06:15  17/08/2018 -0.829710  37.037820   \n",
       "2          3  25/05/2018 17:51  25/05/2018 -1.125301  37.003297   \n",
       "3          4  25/05/2018 18:11  25/05/2018 -1.740958  37.129025   \n",
       "4          5  25/05/2018 21:59  25/05/2018 -1.259392  36.842321   \n",
       "5          6  26/05/2018 07:11  26/05/2018 -1.215499  36.835150   \n",
       "6          7  26/05/2018 07:42  26/05/2018 -1.372556  36.920491   \n",
       "7          8  26/05/2018 07:52  26/05/2018 -1.209940  36.833173   \n",
       "8          9  26/05/2018 11:51  26/05/2018 -1.314351  36.807909   \n",
       "9         10  26/05/2018 15:42  26/05/2018 -1.206788  36.854991   \n",
       "10        11  26/05/2018 18:21  26/05/2018 -1.244783  36.866854   \n",
       "11        12  27/05/2018 14:03  27/05/2018 -1.233802  36.873170   \n",
       "12        13  27/05/2018 14:04  27/05/2018 -1.258863  36.913780   \n",
       "13        14  27/05/2018 14:49  27/05/2018 -1.067962  37.051240   \n",
       "14        15  27/05/2018 17:00  27/05/2018 -1.260873  36.712982   \n",
       "15        16  28/05/2018 19:42  28/05/2018 -1.397699  36.941652   \n",
       "16        17  29/05/2018 16:33  29/05/2018 -1.319633  36.837982   \n",
       "17        18  29/05/2018 16:44  29/05/2018 -1.305472  36.825128   \n",
       "18        19  29/05/2018 17:18  29/05/2018 -1.250170  36.846601   \n",
       "19        20  29/05/2018 18:32  29/05/2018 -1.503181  37.087346   \n",
       "\n",
       "    n_crash_reports  contains_fatality_words  contains_pedestrian_words  \\\n",
       "0                 1                        0                          0   \n",
       "1                 1                        1                          0   \n",
       "2                 1                        0                          0   \n",
       "3                 1                        0                          0   \n",
       "4                 1                        1                          0   \n",
       "5                 1                        0                          0   \n",
       "6                 1                        1                          0   \n",
       "7                 1                        0                          0   \n",
       "8                 1                        0                          0   \n",
       "9                 1                        0                          0   \n",
       "10                1                        0                          0   \n",
       "11                1                        0                          0   \n",
       "12                1                        1                          0   \n",
       "13                1                        0                          0   \n",
       "14                1                        0                          0   \n",
       "15                1                        0                          0   \n",
       "16                1                        0                          0   \n",
       "17                1                        0                          0   \n",
       "18                1                        0                          0   \n",
       "19                1                        0                          0   \n",
       "\n",
       "    contains_matatu_words  contains_motorcycle_words  \n",
       "0                       0                          0  \n",
       "1                       0                          0  \n",
       "2                       0                          0  \n",
       "3                       0                          0  \n",
       "4                       0                          0  \n",
       "5                       0                          0  \n",
       "6                       0                          0  \n",
       "7                       0                          0  \n",
       "8                       0                          0  \n",
       "9                       0                          0  \n",
       "10                      0                          0  \n",
       "11                      0                          0  \n",
       "12                      0                          1  \n",
       "13                      1                          0  \n",
       "14                      0                          1  \n",
       "15                      1                          0  \n",
       "16                      0                          0  \n",
       "17                      0                          0  \n",
       "18                      0                          0  \n",
       "19                      0                          0  "
      ]
     },
     "execution_count": 3,
     "metadata": {},
     "output_type": "execute_result"
    }
   ],
   "source": [
    "data = pd.read_csv('ma3route_crashes_algorithmcode.csv')\n",
    "data.head(20)"
   ]
  },
  {
   "cell_type": "markdown",
   "metadata": {},
   "source": [
    "#### CLASS CREATION"
   ]
  },
  {
   "cell_type": "code",
   "execution_count": 5,
   "metadata": {
    "id": "c_3VF8tjGjGl"
   },
   "outputs": [],
   "source": [
    "#load the dataset\n",
    "class DataUnderstanding:\n",
    "    def __init__(self, data = None):\n",
    "      self.df = data\n",
    "    #Load Data\n",
    "    def load_data(self,path):\n",
    "      # Try reading with 'latin-1' encoding and specifying the delimiter as '\\t'\n",
    "      self.df = pd.read_csv(path, encoding='latin-1', delimiter='\\t')\n",
    "      return self.df\n",
    "    def data_understanding(self):\n",
    "      # First five rows of the dataset\n",
    "      print('n\\n\\First five rows of the dataset')\n",
    "      print('-' * 5)\n",
    "      print(self.df.head())\n",
    "\n",
    "      # Dataset Info\n",
    "      print('n\\n\\Dataset Info')\n",
    "      print('-' * 5)\n",
    "      print(self.df.info())\n",
    "\n",
    "      # Statistical Sumary of the dataset\n",
    "      print('n\\n\\Stastical summary')\n",
    "      print('-' * 5)\n",
    "      print(self.df.describe())\n",
    "# Total Null values per column\n",
    "      print('\\n\\nNull values per column')\n",
    "      print('-' * 5)\n",
    "      print(self.df.isnull().sum())\n",
    "\n",
    "      # Unique Values\n",
    "      print(\"\\n\\nUNIQUE VALUES\")\n",
    "      print(\"-\"*12)\n",
    "      for col in self.df.columns:\n",
    "          print(f\"Column *{col}* has {self.df[col].nunique()} unique values\")\n",
    "          if self.df[col].nunique() < 12:\n",
    "              print(f\"Top unique values in the *{col}* include:\")\n",
    "              for idx in self.df[col].value_counts().index:\n",
    "                  print(f\"- {idx}\")\n",
    "          print(\"\")\n",
    "\n",
    "      # Total Duplicates in the dataset\n",
    "      print('n\\n\\Total duplicated rows in the dataset')\n",
    "      print('-'* 5)\n",
    "      print(self.df.duplicated().sum())"
   ]
  },
  {
   "cell_type": "code",
   "execution_count": 6,
   "metadata": {
    "colab": {
     "base_uri": "https://localhost:8080/"
    },
    "executionInfo": {
     "elapsed": 706,
     "status": "ok",
     "timestamp": 1730203971864,
     "user": {
      "displayName": "Michael Omondi",
      "userId": "05686877530994143495"
     },
     "user_tz": -180
    },
    "id": "j5eyofjEHLi7",
    "outputId": "f837ec67-749c-465d-abc2-6a7b2874e9dd"
   },
   "outputs": [
    {
     "name": "stdout",
     "output_type": "stream",
     "text": [
      "n\n",
      "\\First five rows of the dataset\n",
      "-----\n",
      "  crash_id,crash_datetime,crash_date,latitude,longitude,n_crash_reports,contains_fatality_words,contains_pedestrian_words,contains_matatu_words,contains_motorcycle_words\n",
      "0  1,06/06/2018 20:39,06/06/2018,-1.26302986,36.7...                                                                                                                     \n",
      "1  2,17/08/2018 06:15,17/08/2018,-0.829710012,37....                                                                                                                     \n",
      "2  3,25/05/2018 17:51,25/05/2018,-1.12530079,37.0...                                                                                                                     \n",
      "3  4,25/05/2018 18:11,25/05/2018,-1.740957808,37....                                                                                                                     \n",
      "4  5,25/05/2018 21:59,25/05/2018,-1.259392311,36....                                                                                                                     \n",
      "n\n",
      "\\Dataset Info\n",
      "-----\n",
      "<class 'pandas.core.frame.DataFrame'>\n",
      "RangeIndex: 31064 entries, 0 to 31063\n",
      "Data columns (total 1 columns):\n",
      " #   Column                                                                                                                                                                   Non-Null Count  Dtype \n",
      "---  ------                                                                                                                                                                   --------------  ----- \n",
      " 0   crash_id,crash_datetime,crash_date,latitude,longitude,n_crash_reports,contains_fatality_words,contains_pedestrian_words,contains_matatu_words,contains_motorcycle_words  31064 non-null  object\n",
      "dtypes: object(1)\n",
      "memory usage: 242.8+ KB\n",
      "None\n",
      "n\n",
      "\\Stastical summary\n",
      "-----\n",
      "       crash_id,crash_datetime,crash_date,latitude,longitude,n_crash_reports,contains_fatality_words,contains_pedestrian_words,contains_matatu_words,contains_motorcycle_words\n",
      "count                                               31064                                                                                                                     \n",
      "unique                                              31064                                                                                                                     \n",
      "top     1,06/06/2018 20:39,06/06/2018,-1.26302986,36.7...                                                                                                                     \n",
      "freq                                                    1                                                                                                                     \n",
      "\n",
      "\n",
      "Null values per column\n",
      "-----\n",
      "crash_id,crash_datetime,crash_date,latitude,longitude,n_crash_reports,contains_fatality_words,contains_pedestrian_words,contains_matatu_words,contains_motorcycle_words    0\n",
      "dtype: int64\n",
      "\n",
      "\n",
      "UNIQUE VALUES\n",
      "------------\n",
      "Column *crash_id,crash_datetime,crash_date,latitude,longitude,n_crash_reports,contains_fatality_words,contains_pedestrian_words,contains_matatu_words,contains_motorcycle_words* has 31064 unique values\n",
      "\n",
      "n\n",
      "\\Total duplicated rows in the dataset\n",
      "-----\n",
      "0\n"
     ]
    }
   ],
   "source": [
    "data_understanding = DataUnderstanding()\n",
    "df = data_understanding.load_data('ma3route_crashes_algorithmcode.csv')\n",
    "data_understanding.data_understanding()"
   ]
  },
  {
   "cell_type": "markdown",
   "metadata": {},
   "source": [
    "#### DATA CLEANING\n",
    "In this section, we perform comprehensive data cleaning including handling missing values, outliers, duplicates, and ensuring data types are consistent."
   ]
  },
  {
   "cell_type": "code",
   "execution_count": null,
   "metadata": {
    "colab": {
     "base_uri": "https://localhost:8080/"
    },
    "executionInfo": {
     "elapsed": 648,
     "status": "ok",
     "timestamp": 1730204501367,
     "user": {
      "displayName": "Michael Omondi",
      "userId": "05686877530994143495"
     },
     "user_tz": -180
    },
    "id": "gelU2gj2OQeg",
    "outputId": "7b7940c6-10b4-415c-8b5e-9aa9fcda4ed9"
   },
   "outputs": [
    {
     "data": {
      "text/plain": [
       "Index(['crash_id,crash_datetime,crash_date,latitude,longitude,n_crash_reports,contains_fatality_words,contains_pedestrian_words,contains_matatu_words,contains_motorcycle_words'], dtype='object')"
      ]
     },
     "execution_count": 18,
     "metadata": {},
     "output_type": "execute_result"
    }
   ],
   "source": [
    "#looking at the columns\n",
    "df.columns"
   ]
  },
  {
   "cell_type": "markdown",
   "metadata": {},
   "source": [
    "##### Handling Missing Values"
   ]
  },
  {
   "cell_type": "code",
   "execution_count": 12,
   "metadata": {
    "colab": {
     "base_uri": "https://localhost:8080/",
     "height": 135
    },
    "executionInfo": {
     "elapsed": 413,
     "status": "ok",
     "timestamp": 1730204093698,
     "user": {
      "displayName": "Michael Omondi",
      "userId": "05686877530994143495"
     },
     "user_tz": -180
    },
    "id": "OW81F4haIGoI",
    "outputId": "633d6d85-6d8b-4135-e1de-95fabdd7f530"
   },
   "outputs": [
    {
     "data": {
      "text/plain": [
       "crash_id,crash_datetime,crash_date,latitude,longitude,n_crash_reports,contains_fatality_words,contains_pedestrian_words,contains_matatu_words,contains_motorcycle_words    0\n",
       "dtype: int64"
      ]
     },
     "execution_count": 12,
     "metadata": {},
     "output_type": "execute_result"
    }
   ],
   "source": [
    "#checking for missing values\n",
    "df.isna().sum()"
   ]
  },
  {
   "cell_type": "markdown",
   "metadata": {
    "id": "P_-BKPfMNCJm"
   },
   "source": [
    "Dataset has no missing values"
   ]
  },
  {
   "cell_type": "markdown",
   "metadata": {},
   "source": [
    "##### Handling Duplicates"
   ]
  },
  {
   "cell_type": "code",
   "execution_count": 13,
   "metadata": {
    "colab": {
     "base_uri": "https://localhost:8080/"
    },
    "executionInfo": {
     "elapsed": 439,
     "status": "ok",
     "timestamp": 1730204305672,
     "user": {
      "displayName": "Michael Omondi",
      "userId": "05686877530994143495"
     },
     "user_tz": -180
    },
    "id": "3JgVMYu4NIhG",
    "outputId": "824a531e-6586-4744-9c09-1c36c9d13649"
   },
   "outputs": [
    {
     "data": {
      "text/plain": [
       "0"
      ]
     },
     "execution_count": 13,
     "metadata": {},
     "output_type": "execute_result"
    }
   ],
   "source": [
    "#checking for duplicates\n",
    "df.duplicated().sum()"
   ]
  },
  {
   "cell_type": "markdown",
   "metadata": {
    "id": "_4yMo1ABN6Y1"
   },
   "source": [
    "Dataset has no duplicated values"
   ]
  },
  {
   "cell_type": "markdown",
   "metadata": {
    "id": "21fFwK15OIth"
   },
   "source": [
    "Uniformity"
   ]
  },
  {
   "cell_type": "markdown",
   "metadata": {},
   "source": [
    "##### Handling Outliers"
   ]
  },
  {
   "cell_type": "code",
   "execution_count": 14,
   "metadata": {},
   "outputs": [
    {
     "data": {
      "image/png": "[encoded data removed]",
      "text/plain": [
       "<Figure size 800x400 with 1 Axes>"
      ]
     },
     "metadata": {},
     "output_type": "display_data"
    }
   ],
   "source": [
    "# Visualizing outliers in 'n_crash_reports'\n",
    "plt.figure(figsize=(8, 4))\n",
    "plt.boxplot(data['n_crash_reports'], vert=False)\n",
    "plt.title('Outliers in n_crash_reports')\n",
    "plt.show()"
   ]
  },
  {
   "cell_type": "code",
   "execution_count": 15,
   "metadata": {},
   "outputs": [],
   "source": [
    "# Removing outliers using the IQR method\n",
    "Q1 = data['n_crash_reports'].quantile(0.25)\n",
    "Q3 = data['n_crash_reports'].quantile(0.75)\n",
    "IQR = Q3 - Q1\n",
    "\n",
    "filter_outliers = (data['n_crash_reports'] >= (Q1 - 1.5 * IQR)) & \\\n",
    "                   (data['n_crash_reports'] <= (Q3 + 1.5 * IQR))\n",
    "data = data[filter_outliers].reset_index(drop=True)"
   ]
  },
  {
   "cell_type": "markdown",
   "metadata": {},
   "source": [
    "##### Correcting Data Types"
   ]
  },
  {
   "cell_type": "code",
   "execution_count": 16,
   "metadata": {},
   "outputs": [],
   "source": [
    "# Converting date columns to datetime format\n",
    "data['crash_date'] = pd.to_datetime(data['crash_date'], errors='coerce')\n",
    "data['crash_datetime'] = pd.to_datetime(data['crash_datetime'], errors='coerce')"
   ]
  },
  {
   "cell_type": "code",
   "execution_count": 17,
   "metadata": {},
   "outputs": [],
   "source": [
    "# Converting binary categorical columns to integer type\n",
    "binary_columns = ['contains_fatality_words', 'contains_pedestrian_words',\n",
    "                 'contains_matatu_words', 'contains_motorcycle_words']\n",
    "for col in binary_columns:\n",
    "    data[col] = data[col].astype(int)"
   ]
  },
  {
   "cell_type": "markdown",
   "metadata": {},
   "source": [
    "##### Standardize Categorical Values\n"
   ]
  },
  {
   "cell_type": "code",
   "execution_count": 20,
   "metadata": {},
   "outputs": [],
   "source": [
    "# Ensuring consistent labeling in categorical columns\n",
    "data['contains_pedestrian_words'].replace({'yes': 1, 'no': 0}, inplace=True)"
   ]
  },
  {
   "cell_type": "markdown",
   "metadata": {},
   "source": [
    "##### Handling Text and Keyword Based Columns"
   ]
  },
  {
   "cell_type": "code",
   "execution_count": 21,
   "metadata": {},
   "outputs": [],
   "source": [
    "# Convert columns indicating presence of keywords (e.g., 'yes', 'no') to binary (1, 0)\n",
    "text_indicators = ['contains_pedestrian_words', 'contains_matatu_words',\n",
    "                  'contains_motorcycle_words']\n",
    "for col in text_indicators:\n",
    "    data[col] = data[col].apply(lambda x: 1 if x == 'yes' else 0)"
   ]
  },
  {
   "cell_type": "markdown",
   "metadata": {},
   "source": [
    "##### Geospatial Cleaning"
   ]
  },
  {
   "cell_type": "code",
   "execution_count": 22,
   "metadata": {},
   "outputs": [],
   "source": [
    "# Ensure latitude and longitude are within valid range for Kenya\n",
    "valid_latitude = (data['latitude'] >= -4.7) & (data['latitude'] <= 5.0)\n",
    "valid_longitude = (data['longitude'] >= 33.5) & (data['longitude'] <= 42.0)\n",
    "data = data[valid_latitude & valid_longitude].reset_index(drop=True)"
   ]
  },
  {
   "cell_type": "code",
   "execution_count": 23,
   "metadata": {
    "colab": {
     "base_uri": "https://localhost:8080/"
    },
    "executionInfo": {
     "elapsed": 483,
     "status": "ok",
     "timestamp": 1730205137218,
     "user": {
      "displayName": "Michael Omondi",
      "userId": "05686877530994143495"
     },
     "user_tz": -180
    },
    "id": "Dn0SsBfLQLTN",
    "outputId": "2d86a84b-2ec7-4545-eb8e-cacfe9ee32c2"
   },
   "outputs": [
    {
     "name": "stdout",
     "output_type": "stream",
     "text": [
      "Whitespace in column 'crash_id,crash_datetime,crash_date,latitude,longitude,n_crash_reports,contains_fatality_words,contains_pedestrian_words,contains_matatu_words,contains_motorcycle_words':\n",
      "Series([], Name: crash_id,crash_datetime,crash_date,latitude,longitude,n_crash_reports,contains_fatality_words,contains_pedestrian_words,contains_matatu_words,contains_motorcycle_words, dtype: object)\n"
     ]
    }
   ],
   "source": [
    "# Display cells with whitespace in specific columns\n",
    "for col in df.select_dtypes(include=['object']).columns:\n",
    "    print(f\"Whitespace in column '{col}':\")\n",
    "    print(df[df[col].str.contains(r'^\\s|\\s$', na=False)][col])"
   ]
  },
  {
   "cell_type": "code",
   "execution_count": 24,
   "metadata": {
    "id": "MmkCSYzEQmz-"
   },
   "outputs": [],
   "source": [
    "# Strip whitespace from column names\n",
    "df.columns = df.columns.str.strip()"
   ]
  },
  {
   "cell_type": "code",
   "execution_count": null,
   "metadata": {
    "id": "qP5FDtb_RYTV"
   },
   "outputs": [],
   "source": [
    "#EDA\n",
    "# univariate analysis\n"
   ]
  }
 ],
 "metadata": {
  "colab": {
   "authorship_tag": "ABX9TyMxaCb1hAz/Ia5plH7DmrNl",
   "provenance": []
  },
  "kernelspec": {
   "display_name": "Python (learn-env)",
   "language": "python",
   "name": "learn-env"
  },
  "language_info": {
   "codemirror_mode": {
    "name": "ipython",
    "version": 3
   },
   "file_extension": ".py",
   "mimetype": "text/x-python",
   "name": "python",
   "nbconvert_exporter": "python",
   "pygments_lexer": "ipython3",
   "version": "3.11.9"
  }
 },
 "nbformat": 4,
 "nbformat_minor": 4
}
